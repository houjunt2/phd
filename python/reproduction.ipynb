{
 "cells": [
  {
   "cell_type": "code",
   "execution_count": 2,
   "metadata": {},
   "outputs": [],
   "source": [
    "import tensorflow as tf\n",
    "import numpy as np\n",
    "from tqdm import tqdm\n",
    "import matplotlib.pyplot as plt"
   ]
  },
  {
   "cell_type": "markdown",
   "metadata": {},
   "source": [
    "### Load Data"
   ]
  },
  {
   "cell_type": "code",
   "execution_count": 3,
   "metadata": {},
   "outputs": [],
   "source": [
    "K=3\n",
    "mnist = tf.keras.datasets.mnist"
   ]
  },
  {
   "cell_type": "code",
   "execution_count": 4,
   "metadata": {},
   "outputs": [
    {
     "name": "stdout",
     "output_type": "stream",
     "text": [
      "(60000, 28, 28)\n",
      "(10000, 28, 28)\n"
     ]
    }
   ],
   "source": [
    "(x_train, y_train), (x_test, y_test) = mnist.load_data()\n",
    "print(x_train.shape)\n",
    "print(x_test.shape)"
   ]
  },
  {
   "cell_type": "code",
   "execution_count": 7,
   "metadata": {},
   "outputs": [
    {
     "data": {
      "text/plain": [
       "(60000, 28, 28)"
      ]
     },
     "execution_count": 7,
     "metadata": {},
     "output_type": "execute_result"
    }
   ],
   "source": [
    "x_train.shape"
   ]
  },
  {
   "cell_type": "code",
   "execution_count": 27,
   "metadata": {},
   "outputs": [],
   "source": [
    "# 假设 x_trn 是 (N, d) 形状的二维数据集\n",
    "# 100 个train，10个test\n",
    "# 先随机选择 100 个样本的索引\n",
    "indices = np.random.choice(x_train.shape[0], 10000, replace=False)\n",
    "\n",
    "# 使用这些索引来选择对应的数据\n",
    "x_trn = x_train[indices]\n",
    "y_trn = y_train[indices]\n",
    "\n",
    "indices = np.random.choice(x_test.shape[0], 10, replace=False)\n",
    "\n",
    "# 使用这些索引来选择对应的数据\n",
    "x_tst = x_test[indices]\n",
    "y_tst = y_test[indices]"
   ]
  },
  {
   "cell_type": "markdown",
   "metadata": {},
   "source": [
    "### Calculate Exact SV"
   ]
  },
  {
   "cell_type": "code",
   "execution_count": 28,
   "metadata": {},
   "outputs": [],
   "source": [
    "def get_true_KNN(x_trn, x_tst):\n",
    "    N = x_trn.shape[0]\n",
    "    N_tst = x_tst.shape[0]\n",
    "    x_tst_knn_gt = np.zeros((N_tst, N))\n",
    "    for i_tst in tqdm(range(N_tst)):\n",
    "        dist_gt = np.zeros(N)\n",
    "        for i_trn in range(N):  \n",
    "            dist_gt[i_trn] = np.linalg.norm(x_trn[i_trn, :] - x_tst[i_tst, :], 2)\n",
    "        x_tst_knn_gt[i_tst, :] = np.argsort(dist_gt)\n",
    "    return x_tst_knn_gt.astype(int)\n",
    "\n",
    "\n",
    "def compute_single_unweighted_knn_class_shapley(x_trn, y_trn, x_tst_knn_gt, y_tst, K):\n",
    "    N = x_trn.shape[0]\n",
    "    N_tst = x_tst_knn_gt.shape[0]\n",
    "    sp_gt = np.zeros((N_tst, N))\n",
    "    for j in tqdm(range(N_tst)):\n",
    "        sp_gt[j, x_tst_knn_gt[j, -1]] = (y_trn[x_tst_knn_gt[j, -1]] == y_tst[j]) / N\n",
    "        for i in np.arange(N - 2, -1, -1):\n",
    "            sp_gt[j, x_tst_knn_gt[j, i]] = sp_gt[j, x_tst_knn_gt[j, i + 1]] + \\\n",
    "                                           (int(y_trn[x_tst_knn_gt[j, i]] == y_tst[j]) -\n",
    "                                            int(y_trn[x_tst_knn_gt[j, i + 1]] == y_tst[j])) / K * min([K, i + 1]) / (\n",
    "                                                       i + 1)\n",
    "    return sp_gt\n"
   ]
  },
  {
   "cell_type": "code",
   "execution_count": 29,
   "metadata": {},
   "outputs": [
    {
     "name": "stderr",
     "output_type": "stream",
     "text": [
      "100%|██████████| 10/10 [00:08<00:00,  1.16it/s]\n"
     ]
    }
   ],
   "source": [
    "x_tst_knn_gt = get_true_KNN(x_trn,x_tst)"
   ]
  },
  {
   "cell_type": "code",
   "execution_count": 30,
   "metadata": {},
   "outputs": [
    {
     "name": "stderr",
     "output_type": "stream",
     "text": [
      "100%|██████████| 10/10 [00:00<00:00, 22.95it/s]\n"
     ]
    }
   ],
   "source": [
    "sp_gt = compute_single_unweighted_knn_class_shapley(x_trn, y_trn, x_tst_knn_gt, y_tst, K)"
   ]
  },
  {
   "cell_type": "code",
   "execution_count": 31,
   "metadata": {},
   "outputs": [
    {
     "name": "stdout",
     "output_type": "stream",
     "text": [
      "(10, 10000)\n"
     ]
    },
    {
     "data": {
      "text/plain": [
       "<matplotlib.collections.PathCollection at 0x235856c4be0>"
      ]
     },
     "execution_count": 31,
     "metadata": {},
     "output_type": "execute_result"
    },
    {
     "data": {
      "image/png": "[encoded data removed]",
      "text/plain": [
       "<Figure size 640x480 with 1 Axes>"
      ]
     },
     "metadata": {},
     "output_type": "display_data"
    }
   ],
   "source": [
    "print(sp_gt.shape)\n",
    "plt.scatter(range(sp_gt.shape[1]),np.mean(sp_gt,0))"
   ]
  },
  {
   "cell_type": "markdown",
   "metadata": {},
   "source": [
    "### 开始LSH Approximation SV"
   ]
  },
  {
   "cell_type": "code",
   "execution_count": null,
   "metadata": {},
   "outputs": [],
   "source": []
  },
  {
   "cell_type": "code",
   "execution_count": 51,
   "metadata": {},
   "outputs": [],
   "source": []
  },
  {
   "cell_type": "code",
   "execution_count": 52,
   "metadata": {},
   "outputs": [],
   "source": []
  },
  {
   "cell_type": "markdown",
   "metadata": {},
   "source": [
    "### Improved MC Approximation"
   ]
  },
  {
   "cell_type": "code",
   "execution_count": 32,
   "metadata": {},
   "outputs": [],
   "source": [
    "class Heap:\n",
    "    def __init__(self,K,dist):\n",
    "        self.K=K\n",
    "        self.counter = -1\n",
    "        self.heap = []\n",
    "        self.changed = 0\n",
    "        self.dist = dist\n",
    "        self.heap_dist = {}\n",
    "\n",
    "    def insert(self,a):\n",
    "        dist_a = self.dist(a)\n",
    "        # if a == 11:\n",
    "        #     pdb.set_trace()\n",
    "        if self.counter <= self.K-2:\n",
    "            self.heap.append(a)\n",
    "            self.heap_dist[a] = dist_a\n",
    "            self.counter += 1\n",
    "            self.up(self.counter)\n",
    "            self.changed = 1\n",
    "        else:\n",
    "            if dist_a < self.dist(self.heap[0]):\n",
    "                self.heap[0] = a\n",
    "                self.heap_dist[a] = dist_a\n",
    "                self.down(0)\n",
    "                self.changed = 1\n",
    "            else:\n",
    "                self.changed = 0\n",
    "\n",
    "    def up(self,index):\n",
    "        if index == 0:\n",
    "            return\n",
    "        parent_index = (index-1)//2\n",
    "        if self.dist(self.heap[index]) > self.dist(self.heap[parent_index]):\n",
    "            self.heap[index],self.heap[parent_index] = self.heap[parent_index],self.heap[index]\n",
    "            self.up(parent_index)\n",
    "        return\n",
    "\n",
    "    def down(self,index):\n",
    "        if 2*index + 1 > self.counter:\n",
    "            return\n",
    "        if 2*index + 1 < self.counter:\n",
    "            if self.dist(self.heap[2*index + 1]) < self.dist(self.heap[2*index + 2]):\n",
    "                tar_index = 2*index + 2\n",
    "            else:\n",
    "                tar_index = 2*index + 1\n",
    "        else:\n",
    "            tar_index = 2*index + 1\n",
    "        if self.dist(self.heap[index]) < self.dist(self.heap[tar_index]):\n",
    "            self.heap[index],self.heap[tar_index] = self.heap[tar_index],self.heap[index]\n",
    "            self.down(tar_index)\n",
    "        return\n"
   ]
  },
  {
   "cell_type": "code",
   "execution_count": 33,
   "metadata": {},
   "outputs": [],
   "source": [
    "def knn_mc_approximation(x_trn,y_trn,x_tst,y_tst,K,T):\n",
    "    '''\n",
    "    :param x_trn: training data\n",
    "    :param y_trn: training label\n",
    "    :param x_tst: test data\n",
    "    :param y_tst: test label\n",
    "    :param utility: utility function that maps a set of training instances to its utility\n",
    "    :param T: the number of permutations\n",
    "    :return: estimate of shapley value\n",
    "    '''\n",
    "\n",
    "    n_trn = x_trn.shape[0]\n",
    "    n_tst = x_tst.shape[0]\n",
    "    sp_approx_all = np.zeros((n_tst, T, n_trn))\n",
    "    sp_approx =  np.zeros((n_tst, n_trn))\n",
    "    for n_tst_i in range(n_tst):\n",
    "        dist = lambda a: np.linalg.norm(x_trn[a,:]-x_tst[n_tst_i,:],ord=2)\n",
    "        for t in range(T):\n",
    "            value_now = np.zeros(n_trn)\n",
    "            perm = np.random.permutation(np.arange(n_trn))  # data[t,:]\n",
    "            heap = Heap(K=K,dist=dist)\n",
    "            for k in range(n_trn):\n",
    "                heap.insert(perm[k])\n",
    "                # if heap.changed == 1:\n",
    "                #     trn_dist = np.array([heap.heap_dist[key] for key in heap.heap[:(heap.counter+1)]])\n",
    "                #     value_now[k] = utility(y_trn[heap.heap[:(heap.counter+1)]], y_tst[n_tst_i], trn_dist)\n",
    "                # else:\n",
    "                #     value_now[k] = value_now[k-1]\n",
    "                if heap.changed == 1:\n",
    "                    value_now[k] = utility_function(y_trn[heap.heap[:(heap.counter + 1)]],\n",
    "                                                                         y_tst[n_tst_i], K)\n",
    "                else:\n",
    "                    value_now[k] = value_now[k-1]\n",
    "            # compute the marginal contribution of k-th user's data\n",
    "            sp_approx_all[n_tst_i, t, perm[0]] = value_now[0]\n",
    "            sp_approx_all[n_tst_i, t, perm[1:]] = value_now[1:] - value_now[0:-1]\n",
    "            if t % 100 == 0:\n",
    "                print('%s out of %s' % (t, T))\n",
    "        sp_approx[n_tst_i,:] = np.mean(sp_approx_all[n_tst_i, :, :], axis=0)\n",
    "    return sp_approx\n",
    "\n",
    "# 示例效用函数 (简单和作为示例)\n",
    "def utility_function(y_trn,y_tst,K):\n",
    "        # x_tst is a single test point\n",
    "    utility = np.sum((y_trn==y_tst))/K\n",
    "    return utility"
   ]
  },
  {
   "cell_type": "code",
   "execution_count": 34,
   "metadata": {},
   "outputs": [
    {
     "name": "stdout",
     "output_type": "stream",
     "text": [
      "0 out of 10\n",
      "0 out of 10\n",
      "0 out of 10\n",
      "0 out of 10\n",
      "0 out of 10\n",
      "0 out of 10\n",
      "0 out of 10\n",
      "0 out of 10\n",
      "0 out of 10\n",
      "0 out of 10\n"
     ]
    }
   ],
   "source": [
    "# 测试\n",
    "T = 10   # 假设的排列次数\n",
    "sp = knn_mc_approximation(x_trn,y_trn,x_tst,y_tst,K,T)"
   ]
  },
  {
   "cell_type": "code",
   "execution_count": 35,
   "metadata": {},
   "outputs": [
    {
     "data": {
      "text/plain": [
       "<matplotlib.collections.PathCollection at 0x235856c49d0>"
      ]
     },
     "execution_count": 35,
     "metadata": {},
     "output_type": "execute_result"
    },
    {
     "data": {
      "image/png": "[encoded data removed]",
      "text/plain": [
       "<Figure size 640x480 with 1 Axes>"
      ]
     },
     "metadata": {},
     "output_type": "display_data"
    }
   ],
   "source": [
    "plt.scatter(range(sp.shape[1]),np.mean(sp,0))"
   ]
  },
  {
   "cell_type": "code",
   "execution_count": null,
   "metadata": {},
   "outputs": [],
   "source": []
  }
 ],
 "metadata": {
  "kernelspec": {
   "display_name": "Python 3",
   "language": "python",
   "name": "python3"
  },
  "language_info": {
   "codemirror_mode": {
    "name": "ipython",
    "version": 3
   },
   "file_extension": ".py",
   "mimetype": "text/x-python",
   "name": "python",
   "nbconvert_exporter": "python",
   "pygments_lexer": "ipython3",
   "version": "3.9.18"
  }
 },
 "nbformat": 4,
 "nbformat_minor": 2
}
