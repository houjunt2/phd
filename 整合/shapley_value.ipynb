{
 "cells": [
  {
   "cell_type": "markdown",
   "metadata": {},
   "source": [
    "# Shapley Value Approximation"
   ]
  },
  {
   "cell_type": "markdown",
   "metadata": {},
   "source": [
    "## Data Acquisition "
   ]
  },
  {
   "cell_type": "code",
   "execution_count": 1,
   "metadata": {},
   "outputs": [
    {
     "name": "stderr",
     "output_type": "stream",
     "text": [
      "c:\\Users\\666\\anaconda3\\envs\\python\\lib\\site-packages\\tqdm\\auto.py:21: TqdmWarning: IProgress not found. Please update jupyter and ipywidgets. See https://ipywidgets.readthedocs.io/en/stable/user_install.html\n",
      "  from .autonotebook import tqdm as notebook_tqdm\n"
     ]
    }
   ],
   "source": [
    "import numpy as np\n",
    "from pydvl.utils import Dataset\n",
    "import sklearn as sk\n",
    "from pydvl.utils import Dataset, Utility\n",
    "from sklearn import *\n",
    "from pydvl.reporting.plots import plot_shapley\n",
    "from pydvl.utils.dataset import GroupedDataset\n",
    "from pydvl.value import *\n",
    "import matplotlib.pyplot as plt\n",
    "\n",
    "dataset = Dataset.from_sklearn(datasets.load_iris())\n",
    "model = svm.SVC()\n",
    "utility = Utility(model, dataset)\n"
   ]
  },
  {
   "cell_type": "markdown",
   "metadata": {},
   "source": [
    "## Group Testing"
   ]
  },
  {
   "cell_type": "code",
   "execution_count": 8,
   "metadata": {},
   "outputs": [
    {
     "data": {
      "text/plain": [
       "120"
      ]
     },
     "execution_count": 8,
     "metadata": {},
     "output_type": "execute_result"
    }
   ],
   "source": [
    "len(utility.data.x_train)\n"
   ]
  },
  {
   "cell_type": "markdown",
   "metadata": {},
   "source": [
    "## Compressive Permutation"
   ]
  },
  {
   "cell_type": "code",
   "execution_count": 13,
   "metadata": {},
   "outputs": [],
   "source": [
    "import numpy as np\n",
    "import cvxpy as cp\n",
    "\n",
    "def compressive_permutation_sampling(utility, M, T):\n",
    "    \"\"\"\n",
    "    压缩感知置换采样计算Shapley Value.\n",
    "    \n",
    "    参数：\n",
    "    D - 训练集，数据格式为 [ (x_i, y_i), ... ]\n",
    "    M - 伯努利矩阵A的行数，压缩感知测量数\n",
    "    T - 随机置换次数\n",
    "    utility - 可调用对象，负责对训练数据子集重新训练并计算效用\n",
    "    \n",
    "    返回：\n",
    "    训练集中每个数据点的Shapley Value估计\n",
    "    \"\"\"\n",
    "    N = len(utility.data.x_train)  # 数据点个数\n",
    "    \n",
    "    # Step 1: 生成伯努利矩阵A\n",
    "    A = np.random.choice([-1/np.sqrt(M), 1/np.sqrt(M)], size=(M, N))\n",
    "    \n",
    "    # Step 2: 初始化y的估计\n",
    "    y_hat = np.zeros((M, T))\n",
    "    \n",
    "    # Step 3: 进行T次随机置换并计算y\n",
    "    for t in range(T):\n",
    "        # 生成随机置换\n",
    "        permutation = np.random.permutation(N)\n",
    "        \n",
    "        # 计算每个数据点i的边际贡献phi\n",
    "        phi_t = np.zeros(N)\n",
    "        subset = set()\n",
    "        for i in permutation:\n",
    "            U_with_i = utility(permutation[:i+1])  # 加入i后的效用\n",
    "            U_without_i = utility(permutation[:i])     # 未加入i时的效用\n",
    "            phi_t[i] = U_with_i - U_without_i\n",
    "            subset.add(i)\n",
    "        \n",
    "        # 对每个m，计算y_hat[m, t]\n",
    "        for m in range(M):\n",
    "            y_hat[m, t] = np.dot(A[m, :], phi_t)\n",
    "    \n",
    "    # Step 4: 对y求均值\n",
    "    y_bar = np.mean(y_hat, axis=1)\n",
    "    \n",
    "    # Step 5: 初步估计每个点的Shapley Value\n",
    "    U_D = utility(permutation)  # 整个数据集的效用\n",
    "    s_bar = U_D / N\n",
    "    \n",
    "    # Step 6: 使用cvxpy进行压缩感知L1重建 Shapley Value\n",
    "    delta_s = cp.Variable(N)  # 定义变量 delta_s\n",
    "    epsilon = 1e-6  # 允许的误差范围\n",
    "    \n",
    "    # 目标：最小化 L1 范数 ||Δs||_1\n",
    "    objective = cp.Minimize(cp.norm1(delta_s))\n",
    "    \n",
    "    # 约束：||A(s_bar + Δs) - y_bar||_2 <= epsilon\n",
    "    constraints = [cp.norm2(A @ (s_bar + delta_s) - y_bar) <= epsilon]\n",
    "    \n",
    "    # 定义并求解优化问题\n",
    "    problem = cp.Problem(objective, constraints)\n",
    "    problem.solve()\n",
    "\n",
    "    # Step 7: 检查是否求解成功\n",
    "    if problem.status in [\"infeasible\", \"unbounded\"]:\n",
    "        print(\"优化失败！返回初始估计。\")\n",
    "        delta_s_value = np.zeros(N)\n",
    "    else:\n",
    "        delta_s_value = delta_s.value\n",
    "\n",
    "    # 最终Shapley Value估计\n",
    "    s_hat = s_bar + delta_s_value\n",
    "    return s_hat\n",
    "\n",
    "\n",
    "\n",
    "\n",
    "# 参数设置\n",
    "M = 50  # 压缩感知测量数\n",
    "T = 100  # 随机置换次数\n",
    "\n",
    "# 计算Shapley Value\n",
    "shapley_values = compressive_permutation_sampling(utility, M, T)\n",
    "print(\"Shapley Values:\", shapley_values)\n"
   ]
  },
  {
   "cell_type": "code",
   "execution_count": 12,
   "metadata": {},
   "outputs": [
    {
     "data": {
      "text/plain": [
       "<matplotlib.collections.PathCollection at 0x196981b71c0>"
      ]
     },
     "execution_count": 12,
     "metadata": {},
     "output_type": "execute_result"
    },
    {
     "data": {
      "image/png": "[encoded data removed]",
      "text/plain": [
       "<Figure size 640x480 with 1 Axes>"
      ]
     },
     "metadata": {},
     "output_type": "display_data"
    }
   ],
   "source": [
    "plt.scatter(range(120),shapley_values)"
   ]
  },
  {
   "cell_type": "markdown",
   "metadata": {},
   "source": [
    "## Truncated Monte Carlo Approximation"
   ]
  },
  {
   "cell_type": "code",
   "execution_count": 3,
   "metadata": {},
   "outputs": [
    {
     "name": "stderr",
     "output_type": "stream",
     "text": [
      "c:\\Users\\666\\anaconda3\\envs\\python\\lib\\site-packages\\pydvl\\parallel\\backends\\joblib.py:87: UserWarning: Cancellation of futures is not supported by the joblib backend\n",
      "  warnings.warn(\n"
     ]
    }
   ],
   "source": [
    "values = compute_shapley_values(\n",
    "    utility,\n",
    "    mode = ShapleyMode.TruncatedMontecarlo,\n",
    "    # Stop if the standard error is below 1% of the range of the values (which is ~2),\n",
    "    # or if the number of updates exceeds 1000\n",
    "    done=AbsoluteStandardError(threshold=0.2, fraction=0.9) | MaxUpdates(1000),\n",
    "    truncation=RelativeTruncation(utility, rtol=0.01),\n",
    "    n_jobs=-1,\n",
    ")\n",
    "#values.sort(key=\"value\")\n",
    "df = values.to_dataframe(column=\"data_value\", use_names=True)"
   ]
  },
  {
   "cell_type": "code",
   "execution_count": 4,
   "metadata": {},
   "outputs": [
    {
     "data": {
      "text/plain": [
       "<matplotlib.collections.PathCollection at 0x196ff8c8430>"
      ]
     },
     "execution_count": 4,
     "metadata": {},
     "output_type": "execute_result"
    },
    {
     "data": {
      "image/png": "[encoded data removed]",
      "text/plain": [
       "<Figure size 640x480 with 1 Axes>"
      ]
     },
     "metadata": {},
     "output_type": "display_data"
    }
   ],
   "source": [
    "plt.scatter(range(120),df.data_value)"
   ]
  },
  {
   "cell_type": "markdown",
   "metadata": {},
   "source": [
    "## Gradient Shapley Value"
   ]
  },
  {
   "cell_type": "code",
   "execution_count": null,
   "metadata": {},
   "outputs": [],
   "source": []
  },
  {
   "cell_type": "markdown",
   "metadata": {},
   "source": [
    "## Beta Shapley Value"
   ]
  },
  {
   "cell_type": "code",
   "execution_count": 5,
   "metadata": {},
   "outputs": [
    {
     "name": "stderr",
     "output_type": "stream",
     "text": [
      "PermutationSampler requires caching to be enabled or computation will be doubled wrt. a 'direct' implementation of permutation MC\n",
      "c:\\Users\\666\\anaconda3\\envs\\python\\lib\\site-packages\\pydvl\\parallel\\backends\\joblib.py:87: UserWarning: Cancellation of futures is not supported by the joblib backend\n",
      "  warnings.warn(\n"
     ]
    }
   ],
   "source": [
    "ValuationResult = compute_beta_shapley_semivalues(\n",
    "    u=utility,\n",
    "    alpha=1,\n",
    "    beta=1,\n",
    "    done=AbsoluteStandardError(threshold=0.2, fraction=0.9) | MaxUpdates(1000),\n",
    "    sampler_t=PermutationSampler,\n",
    "    batch_size=128,\n",
    "    n_jobs=1\n",
    ")"
   ]
  },
  {
   "cell_type": "code",
   "execution_count": null,
   "metadata": {},
   "outputs": [],
   "source": []
  }
 ],
 "metadata": {
  "kernelspec": {
   "display_name": "python",
   "language": "python",
   "name": "python3"
  },
  "language_info": {
   "codemirror_mode": {
    "name": "ipython",
    "version": 3
   },
   "file_extension": ".py",
   "mimetype": "text/x-python",
   "name": "python",
   "nbconvert_exporter": "python",
   "pygments_lexer": "ipython3",
   "version": "3.9.18"
  }
 },
 "nbformat": 4,
 "nbformat_minor": 2
}
