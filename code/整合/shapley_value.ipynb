{
 "cells": [
  {
   "cell_type": "markdown",
   "metadata": {},
   "source": [
    "# Shapley Value Approximation"
   ]
  },
  {
   "cell_type": "markdown",
   "metadata": {},
   "source": [
    "## Data Acquisition "
   ]
  },
  {
   "cell_type": "code",
   "execution_count": 1,
   "metadata": {},
   "outputs": [
    {
     "ename": "ImportError",
     "evalue": "DLL load failed while importing _multiarray_umath: 找不到指定的模块。",
     "output_type": "error",
     "traceback": [
      "\u001b[1;31m---------------------------------------------------------------------------\u001b[0m",
      "\u001b[1;31mImportError\u001b[0m                               Traceback (most recent call last)",
      "\u001b[1;31mImportError\u001b[0m: DLL load failed while importing _multiarray_umath: 找不到指定的模块。"
     ]
    },
    {
     "ename": "ImportError",
     "evalue": "DLL load failed while importing _multiarray_umath: 找不到指定的模块。",
     "output_type": "error",
     "traceback": [
      "\u001b[1;31m---------------------------------------------------------------------------\u001b[0m",
      "\u001b[1;31mImportError\u001b[0m                               Traceback (most recent call last)",
      "\u001b[1;31mImportError\u001b[0m: DLL load failed while importing _multiarray_umath: 找不到指定的模块。"
     ]
    },
    {
     "name": "stdout",
     "output_type": "stream",
     "text": [
      "(CVXPY) Oct 10 05:28:54 PM: Encountered unexpected exception importing solver ECOS:\n",
      "ImportError('numpy._core.multiarray failed to import')\n"
     ]
    },
    {
     "ename": "ImportError",
     "evalue": "DLL load failed while importing _multiarray_umath: 找不到指定的模块。",
     "output_type": "error",
     "traceback": [
      "\u001b[1;31m---------------------------------------------------------------------------\u001b[0m",
      "\u001b[1;31mImportError\u001b[0m                               Traceback (most recent call last)",
      "\u001b[1;31mImportError\u001b[0m: DLL load failed while importing _multiarray_umath: 找不到指定的模块。"
     ]
    },
    {
     "name": "stdout",
     "output_type": "stream",
     "text": [
      "(CVXPY) Oct 10 05:28:54 PM: Encountered unexpected exception importing solver SCS:\n",
      "ImportError('numpy._core.multiarray failed to import')\n"
     ]
    },
    {
     "ename": "ImportError",
     "evalue": "DLL load failed while importing _multiarray_umath: 找不到指定的模块。",
     "output_type": "error",
     "traceback": [
      "\u001b[1;31m---------------------------------------------------------------------------\u001b[0m",
      "\u001b[1;31mImportError\u001b[0m                               Traceback (most recent call last)",
      "\u001b[1;31mImportError\u001b[0m: DLL load failed while importing _multiarray_umath: 找不到指定的模块。"
     ]
    },
    {
     "name": "stdout",
     "output_type": "stream",
     "text": [
      "(CVXPY) Oct 10 05:28:54 PM: Encountered unexpected exception importing solver ECOS_BB:\n",
      "ImportError('numpy._core.multiarray failed to import')\n"
     ]
    },
    {
     "ename": "ImportError",
     "evalue": "DLL load failed while importing _multiarray_umath: 找不到指定的模块。",
     "output_type": "error",
     "traceback": [
      "\u001b[1;31m---------------------------------------------------------------------------\u001b[0m",
      "\u001b[1;31mImportError\u001b[0m                               Traceback (most recent call last)",
      "\u001b[1;31mImportError\u001b[0m: DLL load failed while importing _multiarray_umath: 找不到指定的模块。"
     ]
    },
    {
     "name": "stdout",
     "output_type": "stream",
     "text": [
      "(CVXPY) Oct 10 05:28:54 PM: Encountered unexpected exception importing solver OSQP:\n",
      "ImportError('numpy._core.multiarray failed to import')\n"
     ]
    }
   ],
   "source": [
    "import numpy as np\n",
    "\n",
    "import sklearn as sk\n",
    "from sklearn import *\n",
    "\n",
    "from pydvl.utils import Dataset, Utility\n",
    "from pydvl.utils import Dataset\n",
    "from pydvl.reporting.plots import plot_shapley\n",
    "from pydvl.utils.dataset import GroupedDataset\n",
    "from pydvl.value import *\n",
    "\n",
    "import matplotlib.pyplot as plt\n",
    "import matplotlib\n",
    "import tensorflow as tf\n",
    "\n",
    "dataset = Dataset.from_sklearn(datasets.load_iris())\n",
    "model = neighbors.KNeighborsClassifier(n_neighbors=3)\n",
    "utility = Utility(model, dataset)\n",
    "n = utility.data.x_train.shape[0]"
   ]
  },
  {
   "cell_type": "code",
   "execution_count": 2,
   "metadata": {},
   "outputs": [],
   "source": [
    "# dataset = Dataset.from_sklearn(datasets.load_diabetes())\n",
    "# model = linear_model.LogisticRegression()\n",
    "# utility = Utility(model, dataset)\n",
    "# n = utility.data.x_train.shape[0]"
   ]
  },
  {
   "cell_type": "markdown",
   "metadata": {},
   "source": [
    "## Truncated Monte Carlo Approximation"
   ]
  },
  {
   "cell_type": "code",
   "execution_count": 3,
   "metadata": {},
   "outputs": [
    {
     "name": "stderr",
     "output_type": "stream",
     "text": [
      "c:\\Users\\666\\anaconda3\\envs\\python\\lib\\site-packages\\pydvl\\parallel\\backends\\joblib.py:87: UserWarning: Cancellation of futures is not supported by the joblib backend\n",
      "  warnings.warn(\n"
     ]
    }
   ],
   "source": [
    "tmc_values = compute_shapley_values(\n",
    "    utility,\n",
    "    mode = ShapleyMode.TruncatedMontecarlo,\n",
    "    # Stop if the standard error is below 1% of the range of the values (which is ~2),\n",
    "    # or if the number of updates exceeds 1000\n",
    "    done=AbsoluteStandardError(threshold=0.05, fraction=0.9) | MaxUpdates(1000),\n",
    "    truncation=RelativeTruncation(utility, rtol=0.001),\n",
    "    n_jobs=-1,\n",
    ")\n",
    "#values.sort(key=\"value\")\n",
    "tmc_shapley_value = tmc_values.to_dataframe(column=\"data_value\", use_names=True)"
   ]
  },
  {
   "cell_type": "code",
   "execution_count": 4,
   "metadata": {},
   "outputs": [
    {
     "data": {
      "text/html": [
       "<div>\n",
       "<style scoped>\n",
       "    .dataframe tbody tr th:only-of-type {\n",
       "        vertical-align: middle;\n",
       "    }\n",
       "\n",
       "    .dataframe tbody tr th {\n",
       "        vertical-align: top;\n",
       "    }\n",
       "\n",
       "    .dataframe thead th {\n",
       "        text-align: right;\n",
       "    }\n",
       "</style>\n",
       "<table border=\"1\" class=\"dataframe\">\n",
       "  <thead>\n",
       "    <tr style=\"text-align: right;\">\n",
       "      <th></th>\n",
       "      <th>data_value</th>\n",
       "      <th>data_value_stderr</th>\n",
       "      <th>data_value_updates</th>\n",
       "    </tr>\n",
       "  </thead>\n",
       "  <tbody>\n",
       "    <tr>\n",
       "      <th>0</th>\n",
       "      <td>0.000000</td>\n",
       "      <td>0.000000</td>\n",
       "      <td>5</td>\n",
       "    </tr>\n",
       "    <tr>\n",
       "      <th>1</th>\n",
       "      <td>0.046667</td>\n",
       "      <td>0.041740</td>\n",
       "      <td>5</td>\n",
       "    </tr>\n",
       "    <tr>\n",
       "      <th>2</th>\n",
       "      <td>0.053333</td>\n",
       "      <td>0.047703</td>\n",
       "      <td>5</td>\n",
       "    </tr>\n",
       "    <tr>\n",
       "      <th>3</th>\n",
       "      <td>0.000000</td>\n",
       "      <td>0.000000</td>\n",
       "      <td>5</td>\n",
       "    </tr>\n",
       "    <tr>\n",
       "      <th>4</th>\n",
       "      <td>0.000000</td>\n",
       "      <td>0.000000</td>\n",
       "      <td>5</td>\n",
       "    </tr>\n",
       "    <tr>\n",
       "      <th>...</th>\n",
       "      <td>...</td>\n",
       "      <td>...</td>\n",
       "      <td>...</td>\n",
       "    </tr>\n",
       "    <tr>\n",
       "      <th>115</th>\n",
       "      <td>0.000000</td>\n",
       "      <td>0.000000</td>\n",
       "      <td>5</td>\n",
       "    </tr>\n",
       "    <tr>\n",
       "      <th>116</th>\n",
       "      <td>0.000000</td>\n",
       "      <td>0.000000</td>\n",
       "      <td>5</td>\n",
       "    </tr>\n",
       "    <tr>\n",
       "      <th>117</th>\n",
       "      <td>0.033333</td>\n",
       "      <td>0.029814</td>\n",
       "      <td>5</td>\n",
       "    </tr>\n",
       "    <tr>\n",
       "      <th>118</th>\n",
       "      <td>0.000000</td>\n",
       "      <td>0.000000</td>\n",
       "      <td>5</td>\n",
       "    </tr>\n",
       "    <tr>\n",
       "      <th>119</th>\n",
       "      <td>0.000000</td>\n",
       "      <td>0.000000</td>\n",
       "      <td>5</td>\n",
       "    </tr>\n",
       "  </tbody>\n",
       "</table>\n",
       "<p>120 rows × 3 columns</p>\n",
       "</div>"
      ],
      "text/plain": [
       "     data_value  data_value_stderr  data_value_updates\n",
       "0      0.000000           0.000000                   5\n",
       "1      0.046667           0.041740                   5\n",
       "2      0.053333           0.047703                   5\n",
       "3      0.000000           0.000000                   5\n",
       "4      0.000000           0.000000                   5\n",
       "..          ...                ...                 ...\n",
       "115    0.000000           0.000000                   5\n",
       "116    0.000000           0.000000                   5\n",
       "117    0.033333           0.029814                   5\n",
       "118    0.000000           0.000000                   5\n",
       "119    0.000000           0.000000                   5\n",
       "\n",
       "[120 rows x 3 columns]"
      ]
     },
     "execution_count": 4,
     "metadata": {},
     "output_type": "execute_result"
    }
   ],
   "source": [
    "tmc_shapley_value"
   ]
  },
  {
   "cell_type": "code",
   "execution_count": 5,
   "metadata": {},
   "outputs": [
    {
     "data": {
      "image/png": "[encoded data removed]",
      "text/plain": [
       "<Figure size 640x480 with 1 Axes>"
      ]
     },
     "metadata": {},
     "output_type": "display_data"
    }
   ],
   "source": [
    "plt.scatter(range(n),tmc_shapley_value.data_value)\n",
    "plt.show()"
   ]
  },
  {
   "cell_type": "code",
   "execution_count": 6,
   "metadata": {},
   "outputs": [
    {
     "data": {
      "image/png": "[encoded data removed]",
      "text/plain": [
       "<Figure size 640x480 with 1 Axes>"
      ]
     },
     "metadata": {},
     "output_type": "display_data"
    }
   ],
   "source": [
    "plot_shapley(tmc_shapley_value)\n",
    "plt.show()"
   ]
  },
  {
   "cell_type": "markdown",
   "metadata": {},
   "source": []
  },
  {
   "cell_type": "markdown",
   "metadata": {},
   "source": [
    "## Beta Shapley Value"
   ]
  },
  {
   "cell_type": "code",
   "execution_count": 7,
   "metadata": {},
   "outputs": [
    {
     "name": "stderr",
     "output_type": "stream",
     "text": [
      "PermutationSampler requires caching to be enabled or computation will be doubled wrt. a 'direct' implementation of permutation MC\n",
      "c:\\Users\\666\\anaconda3\\envs\\python\\lib\\site-packages\\pydvl\\parallel\\backends\\joblib.py:87: UserWarning: Cancellation of futures is not supported by the joblib backend\n",
      "  warnings.warn(\n"
     ]
    }
   ],
   "source": [
    "ValuationResult = compute_beta_shapley_semivalues(\n",
    "    u=utility,\n",
    "    alpha=1,\n",
    "    beta=1,\n",
    "    done=AbsoluteStandardError(threshold=0.05, fraction=0.9) | MaxUpdates(1000),\n",
    "    sampler_t=PermutationSampler,\n",
    "    batch_size=128,\n",
    "    n_jobs=1\n",
    ")"
   ]
  },
  {
   "cell_type": "code",
   "execution_count": 8,
   "metadata": {},
   "outputs": [
    {
     "data": {
      "image/png": "[encoded data removed]",
      "text/plain": [
       "<Figure size 640x480 with 1 Axes>"
      ]
     },
     "metadata": {},
     "output_type": "display_data"
    }
   ],
   "source": [
    "beta_result = ValuationResult.to_dataframe(column=\"data_value\", use_names=True)\n",
    "plt.scatter(range(n),beta_result.data_value)\n",
    "plt.show()"
   ]
  },
  {
   "cell_type": "markdown",
   "metadata": {},
   "source": [
    "## CS Shapley Value"
   ]
  },
  {
   "cell_type": "code",
   "execution_count": null,
   "metadata": {},
   "outputs": [],
   "source": []
  },
  {
   "cell_type": "code",
   "execution_count": null,
   "metadata": {},
   "outputs": [],
   "source": []
  },
  {
   "cell_type": "markdown",
   "metadata": {},
   "source": [
    "## Owen Sampling"
   ]
  },
  {
   "cell_type": "code",
   "execution_count": null,
   "metadata": {},
   "outputs": [],
   "source": []
  },
  {
   "cell_type": "markdown",
   "metadata": {},
   "source": [
    "## KNN SV"
   ]
  },
  {
   "cell_type": "code",
   "execution_count": 9,
   "metadata": {},
   "outputs": [],
   "source": [
    "dataset = Dataset.from_sklearn(datasets.load_diabetes())\n",
    "model = sk.neighbors.KNeighborsClassifier(n_neighbors=3)\n",
    "utility = Utility(model, dataset)"
   ]
  },
  {
   "cell_type": "code",
   "execution_count": 10,
   "metadata": {},
   "outputs": [
    {
     "name": "stderr",
     "output_type": "stream",
     "text": [
      "c:\\Users\\666\\anaconda3\\envs\\python\\lib\\site-packages\\threadpoolctl.py:1214: RuntimeWarning: \n",
      "Found Intel OpenMP ('libiomp') and LLVM OpenMP ('libomp') loaded at\n",
      "the same time. Both libraries are known to be incompatible and this\n",
      "can cause random crashes or deadlocks on Linux when loaded in the\n",
      "same Python program.\n",
      "Using threadpoolctl may cause crashes or deadlocks. For more\n",
      "information and possible workarounds, please see\n",
      "    https://github.com/joblib/threadpoolctl/blob/master/multiple_openmp.md\n",
      "\n",
      "  warnings.warn(msg, RuntimeWarning)\n"
     ]
    },
    {
     "data": {
      "application/vnd.jupyter.widget-view+json": {
       "model_id": "7760fd6a507d49f18c28ec7bf1350e7b",
       "version_major": 2,
       "version_minor": 0
      },
      "text/plain": [
       "0it [00:00, ?it/s]"
      ]
     },
     "metadata": {},
     "output_type": "display_data"
    }
   ],
   "source": [
    "knn_result = knn_shapley(utility,progress=True)\n",
    "knn_result = knn_result.to_dataframe(column=\"data_value\", use_names=True)\n"
   ]
  },
  {
   "cell_type": "code",
   "execution_count": 11,
   "metadata": {},
   "outputs": [
    {
     "data": {
      "image/png": "[encoded data removed]",
      "text/plain": [
       "<Figure size 640x480 with 1 Axes>"
      ]
     },
     "metadata": {},
     "output_type": "display_data"
    }
   ],
   "source": [
    "plt.scatter(range(len(knn_result.data_value)),knn_result.data_value)\n",
    "plt.show()"
   ]
  },
  {
   "cell_type": "markdown",
   "metadata": {},
   "source": [
    "## Compresive SV"
   ]
  },
  {
   "cell_type": "code",
   "execution_count": 12,
   "metadata": {},
   "outputs": [
    {
     "name": "stdout",
     "output_type": "stream",
     "text": [
      "Iteration: 1/100\n",
      "Iteration: 2/100\n",
      "Iteration: 3/100\n",
      "Iteration: 4/100\n",
      "Iteration: 5/100\n",
      "Iteration: 6/100\n",
      "Iteration: 7/100\n",
      "Iteration: 8/100\n",
      "Iteration: 9/100\n",
      "Iteration: 10/100\n",
      "Iteration: 11/100\n",
      "Iteration: 12/100\n",
      "Iteration: 13/100\n",
      "Iteration: 14/100\n",
      "Iteration: 15/100\n",
      "Iteration: 16/100\n",
      "Iteration: 17/100\n",
      "Iteration: 18/100\n",
      "Iteration: 19/100\n",
      "Iteration: 20/100\n",
      "Iteration: 21/100\n",
      "Iteration: 22/100\n",
      "Iteration: 23/100\n",
      "Iteration: 24/100\n",
      "Iteration: 25/100\n",
      "Iteration: 26/100\n",
      "Iteration: 27/100\n",
      "Iteration: 28/100\n",
      "Iteration: 29/100\n",
      "Iteration: 30/100\n",
      "Iteration: 31/100\n",
      "Iteration: 32/100\n",
      "Iteration: 33/100\n",
      "Iteration: 34/100\n",
      "Iteration: 35/100\n",
      "Iteration: 36/100\n",
      "Iteration: 37/100\n",
      "Iteration: 38/100\n",
      "Iteration: 39/100\n",
      "Iteration: 40/100\n",
      "Iteration: 41/100\n",
      "Iteration: 42/100\n",
      "Iteration: 43/100\n",
      "Iteration: 44/100\n",
      "Iteration: 45/100\n",
      "Iteration: 46/100\n",
      "Iteration: 47/100\n",
      "Iteration: 48/100\n",
      "Iteration: 49/100\n",
      "Iteration: 50/100\n",
      "Iteration: 51/100\n",
      "Iteration: 52/100\n",
      "Iteration: 53/100\n",
      "Iteration: 54/100\n",
      "Iteration: 55/100\n",
      "Iteration: 56/100\n",
      "Iteration: 57/100\n",
      "Iteration: 58/100\n",
      "Iteration: 59/100\n",
      "Iteration: 60/100\n",
      "Iteration: 61/100\n",
      "Iteration: 62/100\n",
      "Iteration: 63/100\n",
      "Iteration: 64/100\n",
      "Iteration: 65/100\n",
      "Iteration: 66/100\n",
      "Iteration: 67/100\n",
      "Iteration: 68/100\n",
      "Iteration: 69/100\n",
      "Iteration: 70/100\n",
      "Iteration: 71/100\n",
      "Iteration: 72/100\n",
      "Iteration: 73/100\n",
      "Iteration: 74/100\n",
      "Iteration: 75/100\n",
      "Iteration: 76/100\n",
      "Iteration: 77/100\n",
      "Iteration: 78/100\n",
      "Iteration: 79/100\n",
      "Iteration: 80/100\n",
      "Iteration: 81/100\n",
      "Iteration: 82/100\n",
      "Iteration: 83/100\n",
      "Iteration: 84/100\n",
      "Iteration: 85/100\n",
      "Iteration: 86/100\n",
      "Iteration: 87/100\n",
      "Iteration: 88/100\n",
      "Iteration: 89/100\n",
      "Iteration: 90/100\n",
      "Iteration: 91/100\n",
      "Iteration: 92/100\n",
      "Iteration: 93/100\n",
      "Iteration: 94/100\n",
      "Iteration: 95/100\n",
      "Iteration: 96/100\n",
      "Iteration: 97/100\n",
      "Iteration: 98/100\n",
      "Iteration: 99/100\n",
      "Iteration: 100/100\n"
     ]
    },
    {
     "ename": "ImportError",
     "evalue": "cannot import name '_cvxcore' from 'cvxpy.cvxcore.python' (c:\\Users\\666\\anaconda3\\envs\\python\\lib\\site-packages\\cvxpy\\cvxcore\\python\\__init__.py)",
     "output_type": "error",
     "traceback": [
      "\u001b[1;31m---------------------------------------------------------------------------\u001b[0m",
      "\u001b[1;31mImportError\u001b[0m                               Traceback (most recent call last)",
      "Cell \u001b[1;32mIn[12], line 80\u001b[0m\n\u001b[0;32m     78\u001b[0m T \u001b[38;5;241m=\u001b[39m \u001b[38;5;241m100\u001b[39m\n\u001b[0;32m     79\u001b[0m \u001b[38;5;66;03m# 计算Shapley Value\u001b[39;00m\n\u001b[1;32m---> 80\u001b[0m cp_shapley_values \u001b[38;5;241m=\u001b[39m \u001b[43mcompressive_permutation_sampling\u001b[49m\u001b[43m(\u001b[49m\u001b[43mutility\u001b[49m\u001b[43m,\u001b[49m\u001b[43m \u001b[49m\u001b[43mM\u001b[49m\u001b[43m,\u001b[49m\u001b[43m \u001b[49m\u001b[43mT\u001b[49m\u001b[43m)\u001b[49m\n\u001b[0;32m     82\u001b[0m \u001b[38;5;28mprint\u001b[39m(\u001b[38;5;124m\"\u001b[39m\u001b[38;5;124mShapley Values:\u001b[39m\u001b[38;5;124m\"\u001b[39m, cp_shapley_values)\n\u001b[0;32m     83\u001b[0m plt\u001b[38;5;241m.\u001b[39mscatter(\u001b[38;5;28mrange\u001b[39m(n),cp_shapley_values)\n",
      "Cell \u001b[1;32mIn[12], line 64\u001b[0m, in \u001b[0;36mcompressive_permutation_sampling\u001b[1;34m(utility, M, T)\u001b[0m\n\u001b[0;32m     62\u001b[0m \u001b[38;5;66;03m# 定义并求解优化问题\u001b[39;00m\n\u001b[0;32m     63\u001b[0m problem \u001b[38;5;241m=\u001b[39m cp\u001b[38;5;241m.\u001b[39mProblem(objective, constraints)\n\u001b[1;32m---> 64\u001b[0m \u001b[43mproblem\u001b[49m\u001b[38;5;241;43m.\u001b[39;49m\u001b[43msolve\u001b[49m\u001b[43m(\u001b[49m\u001b[43m)\u001b[49m\n\u001b[0;32m     66\u001b[0m \u001b[38;5;28;01mif\u001b[39;00m problem\u001b[38;5;241m.\u001b[39mstatus \u001b[38;5;129;01min\u001b[39;00m [\u001b[38;5;124m\"\u001b[39m\u001b[38;5;124minfeasible\u001b[39m\u001b[38;5;124m\"\u001b[39m, \u001b[38;5;124m\"\u001b[39m\u001b[38;5;124munbounded\u001b[39m\u001b[38;5;124m\"\u001b[39m]:\n\u001b[0;32m     67\u001b[0m     \u001b[38;5;28mprint\u001b[39m(\u001b[38;5;124m\"\u001b[39m\u001b[38;5;124m优化失败！返回初始估计。\u001b[39m\u001b[38;5;124m\"\u001b[39m)\n",
      "File \u001b[1;32mc:\\Users\\666\\anaconda3\\envs\\python\\lib\\site-packages\\cvxpy\\problems\\problem.py:503\u001b[0m, in \u001b[0;36mProblem.solve\u001b[1;34m(self, *args, **kwargs)\u001b[0m\n\u001b[0;32m    501\u001b[0m \u001b[38;5;28;01melse\u001b[39;00m:\n\u001b[0;32m    502\u001b[0m     solve_func \u001b[38;5;241m=\u001b[39m Problem\u001b[38;5;241m.\u001b[39m_solve\n\u001b[1;32m--> 503\u001b[0m \u001b[38;5;28;01mreturn\u001b[39;00m solve_func(\u001b[38;5;28mself\u001b[39m, \u001b[38;5;241m*\u001b[39margs, \u001b[38;5;241m*\u001b[39m\u001b[38;5;241m*\u001b[39mkwargs)\n",
      "File \u001b[1;32mc:\\Users\\666\\anaconda3\\envs\\python\\lib\\site-packages\\cvxpy\\problems\\problem.py:1073\u001b[0m, in \u001b[0;36mProblem._solve\u001b[1;34m(self, solver, warm_start, verbose, gp, qcp, requires_grad, enforce_dpp, ignore_dpp, canon_backend, **kwargs)\u001b[0m\n\u001b[0;32m   1070\u001b[0m         \u001b[38;5;28mself\u001b[39m\u001b[38;5;241m.\u001b[39munpack(chain\u001b[38;5;241m.\u001b[39mretrieve(soln))\n\u001b[0;32m   1071\u001b[0m         \u001b[38;5;28;01mreturn\u001b[39;00m \u001b[38;5;28mself\u001b[39m\u001b[38;5;241m.\u001b[39mvalue\n\u001b[1;32m-> 1073\u001b[0m data, solving_chain, inverse_data \u001b[38;5;241m=\u001b[39m \u001b[38;5;28;43mself\u001b[39;49m\u001b[38;5;241;43m.\u001b[39;49m\u001b[43mget_problem_data\u001b[49m\u001b[43m(\u001b[49m\n\u001b[0;32m   1074\u001b[0m \u001b[43m    \u001b[49m\u001b[43msolver\u001b[49m\u001b[43m,\u001b[49m\u001b[43m \u001b[49m\u001b[43mgp\u001b[49m\u001b[43m,\u001b[49m\u001b[43m \u001b[49m\u001b[43menforce_dpp\u001b[49m\u001b[43m,\u001b[49m\u001b[43m \u001b[49m\u001b[43mignore_dpp\u001b[49m\u001b[43m,\u001b[49m\u001b[43m \u001b[49m\u001b[43mverbose\u001b[49m\u001b[43m,\u001b[49m\u001b[43m \u001b[49m\u001b[43mcanon_backend\u001b[49m\u001b[43m,\u001b[49m\u001b[43m \u001b[49m\u001b[43mkwargs\u001b[49m\n\u001b[0;32m   1075\u001b[0m \u001b[43m\u001b[49m\u001b[43m)\u001b[49m\n\u001b[0;32m   1077\u001b[0m \u001b[38;5;28;01mif\u001b[39;00m verbose:\n\u001b[0;32m   1078\u001b[0m     \u001b[38;5;28mprint\u001b[39m(_NUM_SOLVER_STR)\n",
      "File \u001b[1;32mc:\\Users\\666\\anaconda3\\envs\\python\\lib\\site-packages\\cvxpy\\problems\\problem.py:696\u001b[0m, in \u001b[0;36mProblem.get_problem_data\u001b[1;34m(self, solver, gp, enforce_dpp, ignore_dpp, verbose, canon_backend, solver_opts)\u001b[0m\n\u001b[0;32m    693\u001b[0m     s\u001b[38;5;241m.\u001b[39mLOGGER\u001b[38;5;241m.\u001b[39minfo(\n\u001b[0;32m    694\u001b[0m              \u001b[38;5;124m'\u001b[39m\u001b[38;5;124mCompiling problem (target solver=\u001b[39m\u001b[38;5;132;01m%s\u001b[39;00m\u001b[38;5;124m).\u001b[39m\u001b[38;5;124m'\u001b[39m, solver_name)\n\u001b[0;32m    695\u001b[0m     s\u001b[38;5;241m.\u001b[39mLOGGER\u001b[38;5;241m.\u001b[39minfo(\u001b[38;5;124m'\u001b[39m\u001b[38;5;124mReduction chain: \u001b[39m\u001b[38;5;132;01m%s\u001b[39;00m\u001b[38;5;124m'\u001b[39m, reduction_chain_str)\n\u001b[1;32m--> 696\u001b[0m data, inverse_data \u001b[38;5;241m=\u001b[39m \u001b[43msolving_chain\u001b[49m\u001b[38;5;241;43m.\u001b[39;49m\u001b[43mapply\u001b[49m\u001b[43m(\u001b[49m\u001b[38;5;28;43mself\u001b[39;49m\u001b[43m,\u001b[49m\u001b[43m \u001b[49m\u001b[43mverbose\u001b[49m\u001b[43m)\u001b[49m\n\u001b[0;32m    697\u001b[0m safe_to_cache \u001b[38;5;241m=\u001b[39m (\n\u001b[0;32m    698\u001b[0m     \u001b[38;5;28misinstance\u001b[39m(data, \u001b[38;5;28mdict\u001b[39m)\n\u001b[0;32m    699\u001b[0m     \u001b[38;5;129;01mand\u001b[39;00m s\u001b[38;5;241m.\u001b[39mPARAM_PROB \u001b[38;5;129;01min\u001b[39;00m data\n\u001b[0;32m    700\u001b[0m     \u001b[38;5;129;01mand\u001b[39;00m \u001b[38;5;129;01mnot\u001b[39;00m \u001b[38;5;28many\u001b[39m(\u001b[38;5;28misinstance\u001b[39m(reduction, EvalParams)\n\u001b[0;32m    701\u001b[0m                 \u001b[38;5;28;01mfor\u001b[39;00m reduction \u001b[38;5;129;01min\u001b[39;00m solving_chain\u001b[38;5;241m.\u001b[39mreductions)\n\u001b[0;32m    702\u001b[0m )\n\u001b[0;32m    703\u001b[0m \u001b[38;5;28mself\u001b[39m\u001b[38;5;241m.\u001b[39m_compilation_time \u001b[38;5;241m=\u001b[39m time\u001b[38;5;241m.\u001b[39mtime() \u001b[38;5;241m-\u001b[39m start\n",
      "File \u001b[1;32mc:\\Users\\666\\anaconda3\\envs\\python\\lib\\site-packages\\cvxpy\\reductions\\chain.py:76\u001b[0m, in \u001b[0;36mChain.apply\u001b[1;34m(self, problem, verbose)\u001b[0m\n\u001b[0;32m     74\u001b[0m     \u001b[38;5;28;01mif\u001b[39;00m verbose:\n\u001b[0;32m     75\u001b[0m         s\u001b[38;5;241m.\u001b[39mLOGGER\u001b[38;5;241m.\u001b[39minfo(\u001b[38;5;124m'\u001b[39m\u001b[38;5;124mApplying reduction \u001b[39m\u001b[38;5;132;01m%s\u001b[39;00m\u001b[38;5;124m'\u001b[39m, \u001b[38;5;28mtype\u001b[39m(r)\u001b[38;5;241m.\u001b[39m\u001b[38;5;18m__name__\u001b[39m)\n\u001b[1;32m---> 76\u001b[0m     problem, inv \u001b[38;5;241m=\u001b[39m \u001b[43mr\u001b[49m\u001b[38;5;241;43m.\u001b[39;49m\u001b[43mapply\u001b[49m\u001b[43m(\u001b[49m\u001b[43mproblem\u001b[49m\u001b[43m)\u001b[49m\n\u001b[0;32m     77\u001b[0m     inverse_data\u001b[38;5;241m.\u001b[39mappend(inv)\n\u001b[0;32m     78\u001b[0m \u001b[38;5;28;01mreturn\u001b[39;00m problem, inverse_data\n",
      "File \u001b[1;32mc:\\Users\\666\\anaconda3\\envs\\python\\lib\\site-packages\\cvxpy\\reductions\\dcp2cone\\cone_matrix_stuffing.py:346\u001b[0m, in \u001b[0;36mConeMatrixStuffing.apply\u001b[1;34m(self, problem)\u001b[0m\n\u001b[0;32m    344\u001b[0m \u001b[38;5;66;03m# Form the constraints\u001b[39;00m\n\u001b[0;32m    345\u001b[0m extractor \u001b[38;5;241m=\u001b[39m CoeffExtractor(inverse_data, \u001b[38;5;28mself\u001b[39m\u001b[38;5;241m.\u001b[39mcanon_backend)\n\u001b[1;32m--> 346\u001b[0m params_to_P, params_to_c, flattened_variable \u001b[38;5;241m=\u001b[39m \u001b[38;5;28;43mself\u001b[39;49m\u001b[38;5;241;43m.\u001b[39;49m\u001b[43mstuffed_objective\u001b[49m\u001b[43m(\u001b[49m\n\u001b[0;32m    347\u001b[0m \u001b[43m    \u001b[49m\u001b[43mproblem\u001b[49m\u001b[43m,\u001b[49m\u001b[43m \u001b[49m\u001b[43mextractor\u001b[49m\u001b[43m)\u001b[49m\n\u001b[0;32m    348\u001b[0m \u001b[38;5;66;03m# Lower equality and inequality to Zero and NonNeg.\u001b[39;00m\n\u001b[0;32m    349\u001b[0m cons \u001b[38;5;241m=\u001b[39m []\n",
      "File \u001b[1;32mc:\\Users\\666\\anaconda3\\envs\\python\\lib\\site-packages\\cvxpy\\reductions\\dcp2cone\\cone_matrix_stuffing.py:338\u001b[0m, in \u001b[0;36mConeMatrixStuffing.stuffed_objective\u001b[1;34m(self, problem, extractor)\u001b[0m\n\u001b[0;32m    335\u001b[0m     params_to_P \u001b[38;5;241m=\u001b[39m \u001b[38;5;241m2\u001b[39m\u001b[38;5;241m*\u001b[39mparams_to_P\n\u001b[0;32m    336\u001b[0m \u001b[38;5;28;01melse\u001b[39;00m:\n\u001b[0;32m    337\u001b[0m     \u001b[38;5;66;03m# Extract to c.T * x + r; c is represented by a ma\u001b[39;00m\n\u001b[1;32m--> 338\u001b[0m     params_to_c \u001b[38;5;241m=\u001b[39m \u001b[43mextractor\u001b[49m\u001b[38;5;241;43m.\u001b[39;49m\u001b[43maffine\u001b[49m\u001b[43m(\u001b[49m\u001b[43mproblem\u001b[49m\u001b[38;5;241;43m.\u001b[39;49m\u001b[43mobjective\u001b[49m\u001b[38;5;241;43m.\u001b[39;49m\u001b[43mexpr\u001b[49m\u001b[43m)\u001b[49m\n\u001b[0;32m    339\u001b[0m     params_to_P \u001b[38;5;241m=\u001b[39m \u001b[38;5;28;01mNone\u001b[39;00m\n\u001b[0;32m    340\u001b[0m \u001b[38;5;28;01mreturn\u001b[39;00m params_to_P, params_to_c, x\n",
      "File \u001b[1;32mc:\\Users\\666\\anaconda3\\envs\\python\\lib\\site-packages\\cvxpy\\utilities\\coeff_extractor.py:72\u001b[0m, in \u001b[0;36mCoeffExtractor.affine\u001b[1;34m(self, expr)\u001b[0m\n\u001b[0;32m     70\u001b[0m num_rows \u001b[38;5;241m=\u001b[39m \u001b[38;5;28msum\u001b[39m([e\u001b[38;5;241m.\u001b[39msize \u001b[38;5;28;01mfor\u001b[39;00m e \u001b[38;5;129;01min\u001b[39;00m expr_list])\n\u001b[0;32m     71\u001b[0m op_list \u001b[38;5;241m=\u001b[39m [e\u001b[38;5;241m.\u001b[39mcanonical_form[\u001b[38;5;241m0\u001b[39m] \u001b[38;5;28;01mfor\u001b[39;00m e \u001b[38;5;129;01min\u001b[39;00m expr_list]\n\u001b[1;32m---> 72\u001b[0m \u001b[38;5;28;01mreturn\u001b[39;00m \u001b[43mcanonInterface\u001b[49m\u001b[38;5;241;43m.\u001b[39;49m\u001b[43mget_problem_matrix\u001b[49m\u001b[43m(\u001b[49m\u001b[43mop_list\u001b[49m\u001b[43m,\u001b[49m\n\u001b[0;32m     73\u001b[0m \u001b[43m                                         \u001b[49m\u001b[38;5;28;43mself\u001b[39;49m\u001b[38;5;241;43m.\u001b[39;49m\u001b[43mx_length\u001b[49m\u001b[43m,\u001b[49m\n\u001b[0;32m     74\u001b[0m \u001b[43m                                         \u001b[49m\u001b[38;5;28;43mself\u001b[39;49m\u001b[38;5;241;43m.\u001b[39;49m\u001b[43mid_map\u001b[49m\u001b[43m,\u001b[49m\n\u001b[0;32m     75\u001b[0m \u001b[43m                                         \u001b[49m\u001b[38;5;28;43mself\u001b[39;49m\u001b[38;5;241;43m.\u001b[39;49m\u001b[43mparam_to_size\u001b[49m\u001b[43m,\u001b[49m\n\u001b[0;32m     76\u001b[0m \u001b[43m                                         \u001b[49m\u001b[38;5;28;43mself\u001b[39;49m\u001b[38;5;241;43m.\u001b[39;49m\u001b[43mparam_id_map\u001b[49m\u001b[43m,\u001b[49m\n\u001b[0;32m     77\u001b[0m \u001b[43m                                         \u001b[49m\u001b[43mnum_rows\u001b[49m\u001b[43m,\u001b[49m\n\u001b[0;32m     78\u001b[0m \u001b[43m                                         \u001b[49m\u001b[38;5;28;43mself\u001b[39;49m\u001b[38;5;241;43m.\u001b[39;49m\u001b[43mcanon_backend\u001b[49m\u001b[43m)\u001b[49m\n",
      "File \u001b[1;32mc:\\Users\\666\\anaconda3\\envs\\python\\lib\\site-packages\\cvxpy\\cvxcore\\python\\canonInterface.py:296\u001b[0m, in \u001b[0;36mget_problem_matrix\u001b[1;34m(linOps, var_length, id_to_col, param_to_size, param_to_col, constr_length, canon_backend)\u001b[0m\n\u001b[0;32m    293\u001b[0m canon_backend \u001b[38;5;241m=\u001b[39m default_canon_backend \u001b[38;5;28;01mif\u001b[39;00m \u001b[38;5;129;01mnot\u001b[39;00m canon_backend \u001b[38;5;28;01melse\u001b[39;00m canon_backend\n\u001b[0;32m    295\u001b[0m \u001b[38;5;28;01mif\u001b[39;00m canon_backend \u001b[38;5;241m==\u001b[39m s\u001b[38;5;241m.\u001b[39mCPP_CANON_BACKEND:\n\u001b[1;32m--> 296\u001b[0m     \u001b[38;5;28;01mfrom\u001b[39;00m \u001b[38;5;21;01mcvxpy\u001b[39;00m\u001b[38;5;21;01m.\u001b[39;00m\u001b[38;5;21;01mcvxcore\u001b[39;00m\u001b[38;5;21;01m.\u001b[39;00m\u001b[38;5;21;01mpython\u001b[39;00m\u001b[38;5;21;01m.\u001b[39;00m\u001b[38;5;21;01mcppbackend\u001b[39;00m \u001b[38;5;28;01mimport\u001b[39;00m build_matrix\n\u001b[0;32m    297\u001b[0m     \u001b[38;5;28;01mreturn\u001b[39;00m build_matrix(id_to_col, param_to_size, param_to_col, var_length, constr_length, linOps)\n\u001b[0;32m    299\u001b[0m \u001b[38;5;28;01melif\u001b[39;00m canon_backend \u001b[38;5;129;01min\u001b[39;00m {s\u001b[38;5;241m.\u001b[39mSCIPY_CANON_BACKEND, s\u001b[38;5;241m.\u001b[39mRUST_CANON_BACKEND,\n\u001b[0;32m    300\u001b[0m                        s\u001b[38;5;241m.\u001b[39mNUMPY_CANON_BACKEND}:\n",
      "File \u001b[1;32mc:\\Users\\666\\anaconda3\\envs\\python\\lib\\site-packages\\cvxpy\\cvxcore\\python\\cppbackend.py:27\u001b[0m\n\u001b[0;32m     24\u001b[0m \u001b[38;5;28;01mimport\u001b[39;00m \u001b[38;5;21;01mcvxpy\u001b[39;00m\u001b[38;5;21;01m.\u001b[39;00m\u001b[38;5;21;01msettings\u001b[39;00m \u001b[38;5;28;01mas\u001b[39;00m \u001b[38;5;21;01ms\u001b[39;00m\n\u001b[0;32m     26\u001b[0m \u001b[38;5;28;01mtry\u001b[39;00m:\n\u001b[1;32m---> 27\u001b[0m     \u001b[38;5;28;01mimport\u001b[39;00m \u001b[38;5;21;01mcvxpy\u001b[39;00m\u001b[38;5;21;01m.\u001b[39;00m\u001b[38;5;21;01mcvxcore\u001b[39;00m\u001b[38;5;21;01m.\u001b[39;00m\u001b[38;5;21;01mpython\u001b[39;00m\u001b[38;5;21;01m.\u001b[39;00m\u001b[38;5;21;01mcvxcore\u001b[39;00m \u001b[38;5;28;01mas\u001b[39;00m \u001b[38;5;21;01mcvxcore\u001b[39;00m\n\u001b[0;32m     28\u001b[0m \u001b[38;5;28;01mexcept\u001b[39;00m \u001b[38;5;167;01mModuleNotFoundError\u001b[39;00m:\n\u001b[0;32m     29\u001b[0m     \u001b[38;5;28;01mraise\u001b[39;00m \u001b[38;5;167;01mModuleNotFoundError\u001b[39;00m(\n\u001b[0;32m     30\u001b[0m         \u001b[38;5;124m\"\u001b[39m\u001b[38;5;124mTried using the C++ backend, but the cvxcore module was not installed.\u001b[39m\u001b[38;5;124m\"\u001b[39m\n\u001b[0;32m     31\u001b[0m     )\n",
      "File \u001b[1;32mc:\\Users\\666\\anaconda3\\envs\\python\\lib\\site-packages\\cvxpy\\cvxcore\\python\\cvxcore.py:10\u001b[0m\n\u001b[0;32m      8\u001b[0m \u001b[38;5;66;03m# Import the low-level C/C++ module\u001b[39;00m\n\u001b[0;32m      9\u001b[0m \u001b[38;5;28;01mif\u001b[39;00m __package__ \u001b[38;5;129;01mor\u001b[39;00m \u001b[38;5;124m\"\u001b[39m\u001b[38;5;124m.\u001b[39m\u001b[38;5;124m\"\u001b[39m \u001b[38;5;129;01min\u001b[39;00m \u001b[38;5;18m__name__\u001b[39m:\n\u001b[1;32m---> 10\u001b[0m     \u001b[38;5;28;01mfrom\u001b[39;00m \u001b[38;5;21;01m.\u001b[39;00m \u001b[38;5;28;01mimport\u001b[39;00m _cvxcore\n\u001b[0;32m     11\u001b[0m \u001b[38;5;28;01melse\u001b[39;00m:\n\u001b[0;32m     12\u001b[0m     \u001b[38;5;28;01mimport\u001b[39;00m \u001b[38;5;21;01m_cvxcore\u001b[39;00m\n",
      "\u001b[1;31mImportError\u001b[0m: cannot import name '_cvxcore' from 'cvxpy.cvxcore.python' (c:\\Users\\666\\anaconda3\\envs\\python\\lib\\site-packages\\cvxpy\\cvxcore\\python\\__init__.py)"
     ]
    }
   ],
   "source": [
    "import numpy as np\n",
    "import cvxpy as cp\n",
    "from concurrent.futures import ThreadPoolExecutor\n",
    "\n",
    "def compute_phi(i, utility, permutation):\n",
    "    \"\"\" 计算数据点 i 的边际贡献 phi。 \"\"\"\n",
    "    U_with_i = utility(permutation[:i + 1])  # 加入i后的效用\n",
    "    U_without_i = utility(permutation[:i])     # 未加入i时的效用\n",
    "    return U_with_i - U_without_i\n",
    "\n",
    "def compressive_permutation_sampling(utility, M, T):\n",
    "    \"\"\"\n",
    "    压缩感知置换采样计算Shapley Value.\n",
    "    \n",
    "    参数：\n",
    "    utility - 可调用对象，负责对训练数据子集重新训练并计算效用\n",
    "    M - 伯努利矩阵A的行数，压缩感知测量数\n",
    "    T - 随机置换次数\n",
    "    \n",
    "    返回：\n",
    "    训练集中每个数据点的Shapley Value估计\n",
    "    \"\"\"\n",
    "    N = len(utility.data.x_train)  # 数据点个数\n",
    "    \n",
    "    # 生成伯努利矩阵A\n",
    "    A = np.random.choice([-1/np.sqrt(M), 1/np.sqrt(M)], size=(M, N))\n",
    "    \n",
    "    y_hat = np.zeros((M, T))\n",
    "    \n",
    "    for t in range(T):\n",
    "        print(f\"Iteration: {t+1}/{T}\")\n",
    "        \n",
    "        permutation = np.random.permutation(N)\n",
    "        \n",
    "        phi_t = np.zeros(N)\n",
    "        \n",
    "        # 使用ThreadPoolExecutor并行计算phi_t\n",
    "        with ThreadPoolExecutor() as executor:\n",
    "            futures = {executor.submit(compute_phi, i, utility, permutation): i for i in range(N)}\n",
    "            for future in futures:\n",
    "                i = futures[future]\n",
    "                phi_t[i] = future.result()\n",
    "        \n",
    "        # 对每个m，计算y_hat[m, t]\n",
    "        for m in range(M):\n",
    "            y_hat[m, t] = np.dot(A[m, :], phi_t)\n",
    "    \n",
    "    y_bar = np.mean(y_hat, axis=1)\n",
    "    \n",
    "    U_D = utility(permutation)  # 整个数据集的效用\n",
    "    s_bar = U_D / N\n",
    "    \n",
    "    delta_s = cp.Variable(N)  # 定义变量 delta_s\n",
    "    epsilon = 1e-6  # 允许的误差范围\n",
    "    \n",
    "    # 目标：最小化 L1 范数 ||Δs||_1\n",
    "    objective = cp.Minimize(cp.norm1(delta_s))\n",
    "    \n",
    "    # 约束：||A(s_bar + Δs) - y_bar||_2 <= epsilon\n",
    "    constraints = [cp.norm2(A @ (s_bar + delta_s) - y_bar) <= epsilon]\n",
    "    \n",
    "    # 定义并求解优化问题\n",
    "    problem = cp.Problem(objective, constraints)\n",
    "    problem.solve()\n",
    "\n",
    "    if problem.status in [\"infeasible\", \"unbounded\"]:\n",
    "        print(\"优化失败！返回初始估计。\")\n",
    "        delta_s_value = np.zeros(N)\n",
    "    else:\n",
    "        delta_s_value = delta_s.value\n",
    "\n",
    "    # 最终Shapley Value估计\n",
    "    s_hat = s_bar + delta_s_value\n",
    "    return s_hat\n",
    "\n",
    "# 参数设置\n",
    "M = 5  # 压缩感知测量数\n",
    "T = 100\n",
    "# 计算Shapley Value\n",
    "cp_shapley_values = compressive_permutation_sampling(utility, M, T)\n",
    "\n",
    "print(\"Shapley Values:\", cp_shapley_values)\n",
    "plt.scatter(range(n),cp_shapley_values)\n",
    "plt.show()"
   ]
  },
  {
   "cell_type": "code",
   "execution_count": null,
   "metadata": {},
   "outputs": [],
   "source": []
  },
  {
   "cell_type": "markdown",
   "metadata": {},
   "source": [
    "## Gradient SV"
   ]
  },
  {
   "cell_type": "code",
   "execution_count": null,
   "metadata": {},
   "outputs": [],
   "source": [
    "from DShap import DShap\n",
    "model = 'logistic'\n",
    "problem = 'classification'\n",
    "num_test = 1000\n",
    "directory = './temp'\n",
    "dshap = DShap(utility.data.x_train.astype(float), \n",
    "              utility.data.y_train.astype(int), \n",
    "              utility.data.x_test.astype(float), \n",
    "              utility.data.y_test.astype(int), \n",
    "              num_test, \n",
    "              sources=None, \n",
    "              sample_weight=None,\n",
    "              model_family=model, \n",
    "              metric='accuracy',\n",
    "              overwrite=True,\n",
    "              directory=directory, seed=0)\n",
    "dshap.run(100, 0.1, g_run=True)\n",
    "dshap.run(100, 0.1, g_run=False,loo_run=False)\n",
    "dshap.merge_results()\n",
    "dshap.marginals_g\n",
    "tmc = np.mean(dshap.marginals_tmc,0)\n",
    "plt.scatter(range(n),tmc)\n",
    "plt.show()\n",
    "\n",
    "g_sv = np.mean(dshap.marginals_g,0)\n",
    "plt.scatter(range(n),g_sv)\n",
    "plt.show()"
   ]
  }
 ],
 "metadata": {
  "kernelspec": {
   "display_name": "python",
   "language": "python",
   "name": "python3"
  },
  "language_info": {
   "codemirror_mode": {
    "name": "ipython",
    "version": 3
   },
   "file_extension": ".py",
   "mimetype": "text/x-python",
   "name": "python",
   "nbconvert_exporter": "python",
   "pygments_lexer": "ipython3",
   "version": "3.9.18"
  }
 },
 "nbformat": 4,
 "nbformat_minor": 2
}
