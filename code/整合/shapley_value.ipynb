{
 "cells": [
  {
   "cell_type": "markdown",
   "metadata": {},
   "source": [
    "# Shapley Value Approximation"
   ]
  },
  {
   "cell_type": "markdown",
   "metadata": {},
   "source": [
    "## Data Acquisition "
   ]
  },
  {
   "cell_type": "code",
   "execution_count": 10,
   "metadata": {},
   "outputs": [],
   "source": [
    "import numpy as np\n",
    "\n",
    "import sklearn as sk\n",
    "from sklearn import *\n",
    "\n",
    "from pydvl.utils import Dataset, Utility\n",
    "from pydvl.utils import Dataset\n",
    "from pydvl.reporting.plots import plot_shapley\n",
    "from pydvl.utils.dataset import GroupedDataset\n",
    "from pydvl.value import *\n",
    "\n",
    "import matplotlib.pyplot as plt\n",
    "import matplotlib\n",
    "import tensorflow as tf\n",
    "\n",
    "dataset = Dataset.from_sklearn(datasets.load_iris())\n",
    "model = neighbors.KNeighborsClassifier(n_neighbors=3)\n",
    "utility = Utility(model, dataset)\n",
    "n = utility.data.x_train.shape[0]"
   ]
  },
  {
   "cell_type": "code",
   "execution_count": 11,
   "metadata": {},
   "outputs": [],
   "source": [
    "# dataset = Dataset.from_sklearn(datasets.load_diabetes())\n",
    "# model = linear_model.LogisticRegression()\n",
    "# utility = Utility(model, dataset)\n",
    "# n = utility.data.x_train.shape[0]"
   ]
  },
  {
   "cell_type": "markdown",
   "metadata": {},
   "source": [
    "## Truncated Monte Carlo Approximation"
   ]
  },
  {
   "cell_type": "code",
   "execution_count": 12,
   "metadata": {},
   "outputs": [],
   "source": [
    "tmc_values = compute_shapley_values(\n",
    "    utility,\n",
    "    mode = ShapleyMode.TruncatedMontecarlo,\n",
    "    # Stop if the standard error is below 1% of the range of the values (which is ~2),\n",
    "    # or if the number of updates exceeds 1000\n",
    "    done=AbsoluteStandardError(threshold=0.05, fraction=0.9) | MaxUpdates(1000),\n",
    "    truncation=RelativeTruncation(utility, rtol=0.001),\n",
    "    n_jobs=-1,\n",
    ")\n",
    "#values.sort(key=\"value\")\n",
    "tmc_shapley_value = tmc_values.to_dataframe(column=\"data_value\", use_names=True)"
   ]
  },
  {
   "cell_type": "code",
   "execution_count": 13,
   "metadata": {},
   "outputs": [
    {
     "data": {
      "text/html": [
       "<div>\n",
       "<style scoped>\n",
       "    .dataframe tbody tr th:only-of-type {\n",
       "        vertical-align: middle;\n",
       "    }\n",
       "\n",
       "    .dataframe tbody tr th {\n",
       "        vertical-align: top;\n",
       "    }\n",
       "\n",
       "    .dataframe thead th {\n",
       "        text-align: right;\n",
       "    }\n",
       "</style>\n",
       "<table border=\"1\" class=\"dataframe\">\n",
       "  <thead>\n",
       "    <tr style=\"text-align: right;\">\n",
       "      <th></th>\n",
       "      <th>data_value</th>\n",
       "      <th>data_value_stderr</th>\n",
       "      <th>data_value_updates</th>\n",
       "    </tr>\n",
       "  </thead>\n",
       "  <tbody>\n",
       "    <tr>\n",
       "      <th>0</th>\n",
       "      <td>0.000000</td>\n",
       "      <td>0.00000</td>\n",
       "      <td>5</td>\n",
       "    </tr>\n",
       "    <tr>\n",
       "      <th>1</th>\n",
       "      <td>0.000000</td>\n",
       "      <td>0.00000</td>\n",
       "      <td>5</td>\n",
       "    </tr>\n",
       "    <tr>\n",
       "      <th>2</th>\n",
       "      <td>0.000000</td>\n",
       "      <td>0.00000</td>\n",
       "      <td>5</td>\n",
       "    </tr>\n",
       "    <tr>\n",
       "      <th>3</th>\n",
       "      <td>0.093333</td>\n",
       "      <td>0.08348</td>\n",
       "      <td>5</td>\n",
       "    </tr>\n",
       "    <tr>\n",
       "      <th>4</th>\n",
       "      <td>0.000000</td>\n",
       "      <td>0.00000</td>\n",
       "      <td>5</td>\n",
       "    </tr>\n",
       "    <tr>\n",
       "      <th>...</th>\n",
       "      <td>...</td>\n",
       "      <td>...</td>\n",
       "      <td>...</td>\n",
       "    </tr>\n",
       "    <tr>\n",
       "      <th>115</th>\n",
       "      <td>0.000000</td>\n",
       "      <td>0.00000</td>\n",
       "      <td>5</td>\n",
       "    </tr>\n",
       "    <tr>\n",
       "      <th>116</th>\n",
       "      <td>0.000000</td>\n",
       "      <td>0.00000</td>\n",
       "      <td>5</td>\n",
       "    </tr>\n",
       "    <tr>\n",
       "      <th>117</th>\n",
       "      <td>0.000000</td>\n",
       "      <td>0.00000</td>\n",
       "      <td>5</td>\n",
       "    </tr>\n",
       "    <tr>\n",
       "      <th>118</th>\n",
       "      <td>0.000000</td>\n",
       "      <td>0.00000</td>\n",
       "      <td>5</td>\n",
       "    </tr>\n",
       "    <tr>\n",
       "      <th>119</th>\n",
       "      <td>0.000000</td>\n",
       "      <td>0.00000</td>\n",
       "      <td>5</td>\n",
       "    </tr>\n",
       "  </tbody>\n",
       "</table>\n",
       "<p>120 rows × 3 columns</p>\n",
       "</div>"
      ],
      "text/plain": [
       "     data_value  data_value_stderr  data_value_updates\n",
       "0      0.000000            0.00000                   5\n",
       "1      0.000000            0.00000                   5\n",
       "2      0.000000            0.00000                   5\n",
       "3      0.093333            0.08348                   5\n",
       "4      0.000000            0.00000                   5\n",
       "..          ...                ...                 ...\n",
       "115    0.000000            0.00000                   5\n",
       "116    0.000000            0.00000                   5\n",
       "117    0.000000            0.00000                   5\n",
       "118    0.000000            0.00000                   5\n",
       "119    0.000000            0.00000                   5\n",
       "\n",
       "[120 rows x 3 columns]"
      ]
     },
     "execution_count": 13,
     "metadata": {},
     "output_type": "execute_result"
    }
   ],
   "source": [
    "tmc_shapley_value"
   ]
  },
  {
   "cell_type": "code",
   "execution_count": 14,
   "metadata": {},
   "outputs": [
    {
     "data": {
      "image/png": "[encoded data removed]",
      "text/plain": [
       "<Figure size 640x480 with 1 Axes>"
      ]
     },
     "metadata": {},
     "output_type": "display_data"
    }
   ],
   "source": [
    "plt.scatter(range(n),tmc_shapley_value.data_value)\n",
    "plt.show()"
   ]
  },
  {
   "cell_type": "code",
   "execution_count": 15,
   "metadata": {},
   "outputs": [
    {
     "data": {
      "image/png": "[encoded data removed]",
      "text/plain": [
       "<Figure size 640x480 with 1 Axes>"
      ]
     },
     "metadata": {},
     "output_type": "display_data"
    }
   ],
   "source": [
    "plot_shapley(tmc_shapley_value)\n",
    "plt.show()"
   ]
  },
  {
   "cell_type": "markdown",
   "metadata": {},
   "source": []
  },
  {
   "cell_type": "markdown",
   "metadata": {},
   "source": [
    "## Beta Shapley Value"
   ]
  },
  {
   "cell_type": "code",
   "execution_count": 16,
   "metadata": {},
   "outputs": [
    {
     "name": "stderr",
     "output_type": "stream",
     "text": [
      "PermutationSampler requires caching to be enabled or computation will be doubled wrt. a 'direct' implementation of permutation MC\n"
     ]
    }
   ],
   "source": [
    "ValuationResult = compute_beta_shapley_semivalues(\n",
    "    u=utility,\n",
    "    alpha=1,\n",
    "    beta=1,\n",
    "    done=AbsoluteStandardError(threshold=0.05, fraction=0.9) | MaxUpdates(1000),\n",
    "    sampler_t=PermutationSampler,\n",
    "    batch_size=128,\n",
    "    n_jobs=1\n",
    ")"
   ]
  },
  {
   "cell_type": "code",
   "execution_count": 17,
   "metadata": {},
   "outputs": [
    {
     "data": {
      "image/png": "[encoded data removed]",
      "text/plain": [
       "<Figure size 640x480 with 1 Axes>"
      ]
     },
     "metadata": {},
     "output_type": "display_data"
    }
   ],
   "source": [
    "beta_result = ValuationResult.to_dataframe(column=\"data_value\", use_names=True)\n",
    "plt.scatter(range(n),beta_result.data_value)\n",
    "plt.show()"
   ]
  },
  {
   "cell_type": "markdown",
   "metadata": {},
   "source": [
    "## CS Shapley Value"
   ]
  },
  {
   "cell_type": "code",
   "execution_count": null,
   "metadata": {},
   "outputs": [],
   "source": []
  },
  {
   "cell_type": "code",
   "execution_count": null,
   "metadata": {},
   "outputs": [],
   "source": []
  },
  {
   "cell_type": "markdown",
   "metadata": {},
   "source": [
    "## Owen Sampling"
   ]
  },
  {
   "cell_type": "code",
   "execution_count": null,
   "metadata": {},
   "outputs": [],
   "source": []
  },
  {
   "cell_type": "markdown",
   "metadata": {},
   "source": [
    "## KNN SV"
   ]
  },
  {
   "cell_type": "code",
   "execution_count": 18,
   "metadata": {},
   "outputs": [],
   "source": [
    "dataset = Dataset.from_sklearn(datasets.load_diabetes())\n",
    "model = sk.neighbors.KNeighborsClassifier(n_neighbors=3)\n",
    "utility = Utility(model, dataset)"
   ]
  },
  {
   "cell_type": "code",
   "execution_count": 19,
   "metadata": {},
   "outputs": [
    {
     "name": "stderr",
     "output_type": "stream",
     "text": [
      "89it [00:00, 654.73it/s]\n"
     ]
    }
   ],
   "source": [
    "knn_result = knn_shapley(utility,progress=True)\n",
    "knn_result = knn_result.to_dataframe(column=\"data_value\", use_names=True)\n"
   ]
  },
  {
   "cell_type": "code",
   "execution_count": 20,
   "metadata": {},
   "outputs": [
    {
     "ename": "",
     "evalue": "",
     "output_type": "error",
     "traceback": [
      "\u001b[1;31mThe Kernel crashed while executing code in the current cell or a previous cell. \n",
      "\u001b[1;31mPlease review the code in the cell(s) to identify a possible cause of the failure. \n",
      "\u001b[1;31mClick <a href='https://aka.ms/vscodeJupyterKernelCrash'>here</a> for more info. \n",
      "\u001b[1;31mView Jupyter <a href='command:jupyter.viewOutput'>log</a> for further details."
     ]
    }
   ],
   "source": [
    "plt.scatter(range(len(knn_result.data_value)),knn_result.data_value)\n",
    "plt.show()"
   ]
  },
  {
   "cell_type": "markdown",
   "metadata": {},
   "source": [
    "## Compresive SV"
   ]
  },
  {
   "cell_type": "code",
   "execution_count": 21,
   "metadata": {},
   "outputs": [
    {
     "name": "stdout",
     "output_type": "stream",
     "text": [
      "Iteration: 1/100\n",
      "Iteration: 2/100\n",
      "Iteration: 3/100\n"
     ]
    }
   ],
   "source": [
    "import numpy as np\n",
    "import cvxpy as cp\n",
    "from concurrent.futures import ThreadPoolExecutor\n",
    "\n",
    "def compute_phi(i, utility, permutation):\n",
    "    \"\"\" 计算数据点 i 的边际贡献 phi。 \"\"\"\n",
    "    U_with_i = utility(permutation[:i + 1])  # 加入i后的效用\n",
    "    U_without_i = utility(permutation[:i])     # 未加入i时的效用\n",
    "    return U_with_i - U_without_i\n",
    "\n",
    "def compressive_permutation_sampling(utility, M, T):\n",
    "    \"\"\"\n",
    "    压缩感知置换采样计算Shapley Value.\n",
    "    \n",
    "    参数：\n",
    "    utility - 可调用对象，负责对训练数据子集重新训练并计算效用\n",
    "    M - 伯努利矩阵A的行数，压缩感知测量数\n",
    "    T - 随机置换次数\n",
    "    \n",
    "    返回：\n",
    "    训练集中每个数据点的Shapley Value估计\n",
    "    \"\"\"\n",
    "    N = len(utility.data.x_train)  # 数据点个数\n",
    "    \n",
    "    # 生成伯努利矩阵A\n",
    "    A = np.random.choice([-1/np.sqrt(M), 1/np.sqrt(M)], size=(M, N))\n",
    "    \n",
    "    y_hat = np.zeros((M, T))\n",
    "    \n",
    "    for t in range(T):\n",
    "        print(f\"Iteration: {t+1}/{T}\")\n",
    "        \n",
    "        permutation = np.random.permutation(N)\n",
    "        \n",
    "        phi_t = np.zeros(N)\n",
    "        \n",
    "        # 使用ThreadPoolExecutor并行计算phi_t\n",
    "        with ThreadPoolExecutor() as executor:\n",
    "            futures = {executor.submit(compute_phi, i, utility, permutation): i for i in range(N)}\n",
    "            for future in futures:\n",
    "                i = futures[future]\n",
    "                phi_t[i] = future.result()\n",
    "        \n",
    "        # 对每个m，计算y_hat[m, t]\n",
    "        for m in range(M):\n",
    "            y_hat[m, t] = np.dot(A[m, :], phi_t)\n",
    "    \n",
    "    y_bar = np.mean(y_hat, axis=1)\n",
    "    \n",
    "    U_D = utility(permutation)  # 整个数据集的效用\n",
    "    s_bar = U_D / N\n",
    "    \n",
    "    delta_s = cp.Variable(N)  # 定义变量 delta_s\n",
    "    epsilon = 1e-6  # 允许的误差范围\n",
    "    \n",
    "    # 目标：最小化 L1 范数 ||Δs||_1\n",
    "    objective = cp.Minimize(cp.norm1(delta_s))\n",
    "    \n",
    "    # 约束：||A(s_bar + Δs) - y_bar||_2 <= epsilon\n",
    "    constraints = [cp.norm2(A @ (s_bar + delta_s) - y_bar) <= epsilon]\n",
    "    \n",
    "    # 定义并求解优化问题\n",
    "    problem = cp.Problem(objective, constraints)\n",
    "    problem.solve()\n",
    "\n",
    "    if problem.status in [\"infeasible\", \"unbounded\"]:\n",
    "        print(\"优化失败！返回初始估计。\")\n",
    "        delta_s_value = np.zeros(N)\n",
    "    else:\n",
    "        delta_s_value = delta_s.value\n",
    "\n",
    "    # 最终Shapley Value估计\n",
    "    s_hat = s_bar + delta_s_value\n",
    "    return s_hat\n",
    "\n",
    "# 参数设置\n",
    "M = 5  # 压缩感知测量数\n",
    "T = 100\n",
    "# 计算Shapley Value\n",
    "cp_shapley_values = compressive_permutation_sampling(utility, M, T)\n",
    "\n",
    "print(\"Shapley Values:\", cp_shapley_values)\n",
    "plt.scatter(range(n),cp_shapley_values)\n",
    "plt.show()"
   ]
  },
  {
   "cell_type": "code",
   "execution_count": null,
   "metadata": {},
   "outputs": [],
   "source": []
  },
  {
   "cell_type": "markdown",
   "metadata": {},
   "source": [
    "## Gradient SV"
   ]
  },
  {
   "cell_type": "code",
   "execution_count": null,
   "metadata": {},
   "outputs": [],
   "source": [
    "from DShap import DShap\n",
    "model = 'logistic'\n",
    "problem = 'classification'\n",
    "num_test = 1000\n",
    "directory = './temp'\n",
    "dshap = DShap(utility.data.x_train.astype(float), \n",
    "              utility.data.y_train.astype(int), \n",
    "              utility.data.x_test.astype(float), \n",
    "              utility.data.y_test.astype(int), \n",
    "              num_test, \n",
    "              sources=None, \n",
    "              sample_weight=None,\n",
    "              model_family=model, \n",
    "              metric='accuracy',\n",
    "              overwrite=True,\n",
    "              directory=directory, seed=0)\n",
    "dshap.run(100, 0.1, g_run=True)\n",
    "dshap.run(100, 0.1, g_run=False,loo_run=False)\n",
    "dshap.merge_results()\n",
    "dshap.marginals_g\n",
    "tmc = np.mean(dshap.marginals_tmc,0)\n",
    "plt.scatter(range(n),tmc)\n",
    "plt.show()\n",
    "\n",
    "g_sv = np.mean(dshap.marginals_g,0)\n",
    "plt.scatter(range(n),g_sv)\n",
    "plt.show()"
   ]
  }
 ],
 "metadata": {
  "kernelspec": {
   "display_name": "python",
   "language": "python",
   "name": "python3"
  },
  "language_info": {
   "codemirror_mode": {
    "name": "ipython",
    "version": 3
   },
   "file_extension": ".py",
   "mimetype": "text/x-python",
   "name": "python",
   "nbconvert_exporter": "python",
   "pygments_lexer": "ipython3",
   "version": "3.9.18"
  }
 },
 "nbformat": 4,
 "nbformat_minor": 2
}
